{
 "cells": [
  {
   "cell_type": "markdown",
   "id": "090ab5b1-97b5-470c-a6db-bd3067ea0a76",
   "metadata": {},
   "source": [
    "# PyPro: challenge 1"
   ]
  },
  {
   "cell_type": "markdown",
   "id": "7aa38748-aa74-4d4c-8b9c-8763191745fb",
   "metadata": {},
   "source": [
    "These exercises provide a wide range of challenges that test your understanding of Python's core concepts, such as control structures, data types, string manipulations, list comprehensions, and higher-order functions."
   ]
  },
  {
   "cell_type": "markdown",
   "id": "3ec89133-44a6-4762-8148-96fe965e9487",
   "metadata": {},
   "source": [
    "**Basic Tasks**"
   ]
  },
  {
   "cell_type": "markdown",
   "id": "63ed3f13-1b75-483b-b5cb-185849e5b48b",
   "metadata": {},
   "source": [
    "1. Create a function `find_max()` that accepts two numeric inputs and returns the greater value. Avoid using the built-in `max()` function."
   ]
  },
  {
   "cell_type": "markdown",
   "id": "c1fba2e2-66b8-4e6d-8af1-198faf849ea1",
   "metadata": {},
   "source": [
    "```python\n",
    "def find_max():\n",
    "    \"\"\"The function check the two numbers entered by the user and returns the greater value\"\"\"\n",
    "    if(a > b):\n",
    "        return a\n",
    "    else:\n",
    "        return b\n",
    "a = float(input(\"Enter the first number\"))\n",
    "b = float(input(\"Enter the second number\"))\n",
    "print(\"The largets number is\", find_max())\n",
    "``` "
   ]
  },
  {
   "cell_type": "markdown",
   "id": "7aa3e7b6-7e5d-45f0-8c1d-8f435d2c12ac",
   "metadata": {},
   "source": [
    "2. Develop a function `find_max_of_three()` to find the maximum among three given numbers."
   ]
  },
  {
   "cell_type": "markdown",
   "id": "15348c18-d58c-426a-b972-8f6c909a0084",
   "metadata": {},
   "source": [
    "```python\n",
    "def find_max_of_three():\n",
    "    \"\"\"The function check the three numbers entered by the user and returns the greater value\"\"\"\n",
    "    if(a > b and a > c): #compares first value with other values\n",
    "        return a\n",
    "    elif(b > a and b > c): #compares second value with other values\n",
    "        return b\n",
    "    else:                  # returns the last value if the other conditions are not met\n",
    "        return c\n",
    "a = float(input(\"Enter the first number\"))\n",
    "b = float(input(\"Enter the second number\"))\n",
    "c = float(input(\"Enter the third number\"))\n",
    "\n",
    "print(\"The largets number is\", find_max_of_three())\n",
    "```"
   ]
  },
  {
   "cell_type": "markdown",
   "id": "cde87664-4f91-4aa0-85de-0cd127f11001",
   "metadata": {},
   "source": [
    "3. Write a function to manually calculate the length of a given list or string without using `len()`."
   ]
  },
  {
   "cell_type": "markdown",
   "id": "ce051f13-262a-4578-9bef-3de34cfa173e",
   "metadata": {},
   "source": [
    "```python\n",
    "def length():\n",
    "    \"\"\"This code counts all the characters in a sring and return the sum\"\"\"\n",
    "    \n",
    "    string = \"Write a function to manually\"    # here the string is defined\n",
    "    \n",
    "    count = 0               # create a variable where to store the counts\n",
    "    for i in string:              # checks all the characters and returns their sums\n",
    "        count += 1\n",
    "    print(count)\n",
    "\n",
    "length()    \n",
    "```"
   ]
  },
  {
   "cell_type": "markdown",
   "id": "4845810b-5896-4eff-8dc9-fc2797afe6a4",
   "metadata": {},
   "source": [
    "4. Implement a function that checks if a given character is a vowel (a, e, i, o, u)."
   ]
  },
  {
   "cell_type": "markdown",
   "id": "8d9b8c4d-8cc2-4230-9c48-7bf4d5ac17a4",
   "metadata": {},
   "source": [
    "```python\n",
    "\n",
    "def char():             # define and create the function to store the operations\n",
    "\n",
    "    \"\"\" This code checks if a character in a string is a vowel\"\"\"\n",
    "    \n",
    "    string = \"Write\"               # create the string\n",
    "    \n",
    "    if (string[3] in \"AEIOUaeiou\"):         # checks if the condition is true\n",
    "        print(string[3], \"is a vowel\")\n",
    "    else:\n",
    "        print(string[3], \"is not a vowel\")\n",
    "char()\n",
    "```"
   ]
  },
  {
   "cell_type": "markdown",
   "id": "cf813da1-767b-47f0-afc4-189cc79cd68e",
   "metadata": {},
   "source": [
    "5. Write a function `encode()` that converts a string into \"rövarspråket\" ([robber's language](https://en.wikipedia.org/wiki/R%C3%B6varspr%C3%A5ket)) by doubling consonants and placing \"o\" in between, e.g., \"hello\" -> \"hohelollolo\"."
   ]
  },
  {
   "cell_type": "markdown",
   "id": "cbd55788-6665-4ce0-a0a9-922038828b7e",
   "metadata": {
    "scrolled": true
   },
   "source": [
    "```python\n",
    "def encode():             # define and create the function to store the operations\n",
    "\n",
    "    \"\"\"The code create check every character in the string, and if it a consonant the it create a new word in rövarspråket format \"\"\"\n",
    "    \n",
    "    word = input(\"Write a word to encode\")          #asks the user to enter a word\n",
    "    encoded_word = \"\"          #Define the variable to store the output\n",
    "    for i in word:          #checks if consonants exist in the word and creats a rövarspråket\n",
    "        if (i in \"BCDFGHJKLMNPQRSTVWXYZbcdfghjklmnpqrstvwxyz\"):\n",
    "            encoded_word += i + \"o\" + i\n",
    "        else:\n",
    "            encoded_word += i\n",
    "    print(encoded_word)          #prints the created word\n",
    "        \n",
    "encode()\n",
    "```"
   ]
  },
  {
   "cell_type": "markdown",
   "id": "5874ad5d-2fb0-4e4f-949a-0ff845810164",
   "metadata": {},
   "source": [
    "6. Create `sum_elements()` and `product_elements()` functions to sum and multiply all elements in a list, respectively.\n"
   ]
  },
  {
   "cell_type": "markdown",
   "id": "68fe64a9-2f31-491e-a999-5a26317b1ef2",
   "metadata": {},
   "source": [
    "```python\n",
    "def sum_elements():                 # define and create the function to store the operations\n",
    "    \n",
    "    \"\"\"In this session functions for both summation and multiplication is created and the operations are defined. \"\"\"\n",
    "\n",
    "    adds = sum(my_list)             # Describe the operation type\n",
    "    return adds                     # returns the results\n",
    "\n",
    "def product_elements():             # define and create the function to store the operations\n",
    "    product = 1                     # For multiplication it is important to define the product value\n",
    "    for i in my_list:               # Describe the operation type\n",
    "        product *= i\n",
    "    return product                  # returns the results\n",
    "\n",
    "\"\"\"Here is an example how the two functions can be called and used to perform the operations\"\"\"\n",
    "my_list = [2, 3, 7, 5, 9, 2, 12]                  # creating the list of elements\n",
    "\n",
    "print(\"The sum of all the elemants is: \",sum_elements())           # calls the funtion and prints the values\n",
    "print(\"The product of all the elemants is: \",product_elements())           # calls the funtion and prints the values\n",
    "\n",
    "```"
   ]
  },
  {
   "cell_type": "markdown",
   "id": "9e348b98-e866-45b1-ba5e-56e1ca06a2ce",
   "metadata": {},
   "source": [
    "7. Define a function `reverse_string()` to reverse the characters in a given string."
   ]
  },
  {
   "cell_type": "markdown",
   "id": "931308b5-1bf3-47a2-8e68-65d66b7cba2d",
   "metadata": {},
   "source": [
    "```python\n",
    "def reverse_string():            # define and create the function to store the operations\n",
    "    \n",
    "    \"\"\" This operation, create a word and reverse characters in the give string variable\"\"\"\n",
    "    \n",
    "    string = input(\"Type a word\")            # creating the string variable\n",
    "    print(string[::-1])            # reverse the text and prints the results\n",
    "reverse_string()             # calls the funtion and prints the values\n",
    "```"
   ]
  },
  {
   "cell_type": "markdown",
   "id": "7ab29be8-040c-4b0a-a25d-eee8565e1fdb",
   "metadata": {},
   "source": [
    "8. Implement `check_palindrome()` to verify if a string reads the same forwards and backwards, i.e. is a [palindrome](https://en.wikipedia.org/wiki/Palindrome)."
   ]
  },
  {
   "cell_type": "markdown",
   "id": "44ce70f4-7199-4241-9ff7-8293a7330a7e",
   "metadata": {},
   "source": [
    "```python\n",
    "\n",
    "\"\"\" In this operation, you just need to input a word and reverse it then check if the two are the same\"\"\"\"\n",
    "\n",
    "\n",
    "string = input(\"Enter a word: \")            # Define the word\n",
    "reverse = string[::-1]                  # Reverse the word\n",
    "\n",
    "if(string==reverse):                                   # If statement is used to definr the condition\n",
    "    print(\"The word\",string,\"is a palindrome.\")        #prints the values if the condtion is true\n",
    "else:\n",
    "    print(\"The word\",string,\"is not a palindrome.\")    #prints the values if the condtion is false\n",
    "\n",
    "```"
   ]
  },
  {
   "cell_type": "markdown",
   "id": "2f9ebce8-a353-4c05-8a82-3e80b51bbbac",
   "metadata": {},
   "source": [
    "9. Develop a function `check_membership()` to determine if a value exists within a list."
   ]
  },
  {
   "cell_type": "markdown",
   "id": "5e7939cf-f1a1-47d1-ba75-a0e51ee158eb",
   "metadata": {
    "scrolled": true
   },
   "source": [
    "```python\n",
    "def check_membership():                                     # define and create the function to store the operations\n",
    "    \n",
    "    \"\"\"This function is inted to check if an element exists in a list \"\"\"\n",
    "    \n",
    "    fruits = ['mango', 'banana', 'oranges', 'pineapple', 'guava']    # creates a list\n",
    "    fruit = 'oranges'in fruits                                     # check if an element exist in the list\n",
    "    print(fruit)\n",
    "check_membership()\n",
    "```"
   ]
  },
  {
   "cell_type": "markdown",
   "id": "cb490382-f3d0-48af-b575-3f77e65da812",
   "metadata": {},
   "source": [
    "10. Write `check_overlap()` to identify if two lists share any elements."
   ]
  },
  {
   "cell_type": "markdown",
   "id": "b04a6f1a-3aea-4567-96bd-4346e9ad0edf",
   "metadata": {
    "scrolled": true
   },
   "source": [
    "```python\n",
    "def check_overlap(lis1, lis2):                     # define and create the function to store the operations\n",
    "    \"\"\"In this elements in two list are compared and the shared elemets are found then a list is returned. The results is set\"\"\"\n",
    "    \n",
    "    check_overlap = set(lis1) & set(lis2)        # converts the two list to sets\n",
    "    \n",
    "    if check_overlap:                       # compares the two sets created and return results\n",
    "        return True, check_overlap\n",
    "    else:\n",
    "        return False, none\n",
    "\n",
    "# How to use the function\n",
    "lis1 = [4, 13, 23, 7, 45, 34]              # create the first list\n",
    "lis2 == lis1               # maps the elements from the first to second list\n",
    "lis2.extend([67,88,90])             # adds new elements to list two using extend() function\n",
    "\n",
    "result, elements = check_overlap(lis1, lis2)    # Calls the parameters\n",
    "if result:                                      # returns the set of elements shared\n",
    "    print(f\"The shared elements are: {elements}\")\n",
    "else:\n",
    "    print(f\"Elements are unique\")\n",
    "```"
   ]
  },
  {
   "cell_type": "markdown",
   "id": "a76eacac-653a-453f-b214-8ff717278829",
   "metadata": {},
   "source": [
    "11. Implement repeat_char() that generates a string with a specified character repeated n times."
   ]
  },
  {
   "cell_type": "markdown",
   "id": "a899f7c4-2d20-48bf-936f-046e1ed46c23",
   "metadata": {},
   "source": [
    "```python\n",
    "\"\"\"In this code, user is ptomted to enter a character then the function repeats the character with respect to the number of repetition the user wants\"\"\"\n",
    "\n",
    "def repeat_char():\n",
    "\n",
    "    repeat = char * n\n",
    "    return repeat\n",
    "    \n",
    "char = input(\"Enter the character to be repeated: \")\n",
    "n = int(input(\"Enter the number of repetitions: \")) \n",
    "repeat_char()\n",
    "\n",
    "```"
   ]
  },
  {
   "cell_type": "markdown",
   "id": "2960f1b3-05e3-49d2-8662-49c0492f53f6",
   "metadata": {},
   "source": [
    "12. Create a function print_histogram() that takes a list of integers and prints a corresponding histogram."
   ]
  },
  {
   "cell_type": "code",
   "execution_count": 24,
   "id": "c4da7930-5aad-44cd-8bab-a7bceef87e84",
   "metadata": {},
   "outputs": [],
   "source": [
    "import matplotlib.pyplot as plt\n",
    "import numpy as np"
   ]
  },
  {
   "cell_type": "markdown",
   "id": "78b86e0f-ca79-4925-8b11-2e3d52ee25d3",
   "metadata": {},
   "source": [
    "```python\n",
    "\"\"\"In this code, user is ptomted to enter a list of integers and those value are used to plot the histogram\"\"\"\n",
    "\n",
    "def print_histogram():\n",
    "    plt.hist(x)\n",
    "    plt.show()\n",
    "\n",
    "x = list(map(int, input(\"Enter multiple numbers separated by space: \").split()))\n",
    "print_histogram()\n",
    "\n",
    "```"
   ]
  },
  {
   "cell_type": "markdown",
   "id": "97be7f12-8f6c-44e1-a31e-6eb7a092a2ad",
   "metadata": {},
   "source": [
    "13. Write find_max_in_list() to identify the largest number in a list of arbitrary length."
   ]
  },
  {
   "cell_type": "markdown",
   "id": "0e6f75df-3eb0-4ee1-9735-c23953809136",
   "metadata": {},
   "source": [
    "```python\n",
    "\"\"\"In this code list is sorted in ascending order then last value is extracted\"\"\"\n",
    "def find_max_in_list():\n",
    "    lst.sort()\n",
    "    print(\"The largest number in a list is\", lst[-1])\n",
    "lst = [3,4,1,11, 123,456, 231,123,43]\n",
    "find_max_in_list()\n",
    "```"
   ]
  },
  {
   "cell_type": "markdown",
   "id": "ddcff1b2-0f48-4036-9528-d4af0b8df339",
   "metadata": {},
   "source": [
    "14. Create a program that maps each word in a list to its length."
   ]
  },
  {
   "cell_type": "markdown",
   "id": "ff7702d3-ee59-4d84-9797-59739257555e",
   "metadata": {},
   "source": [
    "```python\n",
    "\"\"\"This code checks a list of words and compute the length of each and return the exact size \"\"\"\n",
    "\n",
    "fruits = [\"oranges\", \"mangos\", \"kiwi\", \"banana\", \"lemon\", \"melon\"]\n",
    "for i in range (len(fruits)):\n",
    "    length = len(str(fruits[i]))            # calaculates the length of each word\n",
    "    print(\"The length of {}, is {}\".format(fruits[i],length))\n",
    "\n",
    "```"
   ]
  },
  {
   "cell_type": "markdown",
   "id": "a9db52cf-54fa-4e18-9c0d-8d953d833333",
   "metadata": {},
   "source": [
    "15. Implement longest_word() to find the longest word in a list."
   ]
  },
  {
   "cell_type": "markdown",
   "id": "7c3f9adb-98b9-401c-b794-eabfacfc3820",
   "metadata": {},
   "source": [
    "```python\n",
    "def  longest_word():\n",
    "    \"\"\"This code checks a list of words and stores the longest string \"\"\"\n",
    "    max_len = 0\n",
    "    long_text = []           # Variable to store the longest word \n",
    "    \n",
    "    fruits = [\"oranges\", \"mangoes\", \"kiwi\", \"banana\", \"lemon\", \"melon\"]\n",
    "    for fruit in fruits:\n",
    "        length = len(fruits)                # calaculates the length of each word\n",
    "        if length > max_len:\n",
    "            max_len = length + 1            # 1 is added to account for 0 to help us get the exact length\n",
    "            long_text = fruit\n",
    "    print(\"The longest word is {} with length of {}\".format(long_text,max_len))    \n",
    "longest_word() \n",
    "```"
   ]
  }
 ],
 "metadata": {
  "kernelspec": {
   "display_name": "Python 3 (ipykernel)",
   "language": "python",
   "name": "python3"
  },
  "language_info": {
   "codemirror_mode": {
    "name": "ipython",
    "version": 3
   },
   "file_extension": ".py",
   "mimetype": "text/x-python",
   "name": "python",
   "nbconvert_exporter": "python",
   "pygments_lexer": "ipython3",
   "version": "3.12.3"
  }
 },
 "nbformat": 4,
 "nbformat_minor": 5
}
