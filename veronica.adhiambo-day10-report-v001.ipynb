{
 "cells": [
  {
   "cell_type": "markdown",
   "id": "946dcae8",
   "metadata": {},
   "source": [
    "# Practical_6: Numpy"
   ]
  },
  {
   "cell_type": "markdown",
   "id": "45566153-1dad-4afc-83f2-674205f8764c",
   "metadata": {},
   "source": [
    "import numpy as np"
   ]
  },
  {
   "cell_type": "markdown",
   "id": "ee1ab9b5-705a-4d25-82f6-605091534947",
   "metadata": {},
   "source": [
    "---\n",
    "\n",
    "### Exercise 1:\n",
    "Create a NumPy array of integers from 1 to 10.\n",
    "\n",
    "```python\n",
    "# Exercise 1\n",
    "```"
   ]
  },
  {
   "cell_type": "markdown",
   "id": "696a39b6-8c39-4550-8488-2c7c327bb590",
   "metadata": {},
   "source": [
    "```python\n",
    "x = np.arange(1, 10, 1)\n",
    "x\n",
    "```"
   ]
  },
  {
   "cell_type": "markdown",
   "id": "ecb83fbb-f160-4bfb-85ea-8872e4b19ffb",
   "metadata": {},
   "source": [
    "---\n",
    "\n",
    "### Exercise 2:\n",
    "Create a 3x3 NumPy array filled with zeros.\n",
    "\n",
    "```python\n",
    "# Exercise 2\n",
    "```"
   ]
  },
  {
   "cell_type": "markdown",
   "id": "18c99f78-52ed-405d-bbca-1c6b5a56d5ee",
   "metadata": {},
   "source": [
    "```python\n",
    "mat = (np.random.randint(1, size=9)).reshape(3, 3)\n",
    "mat\n",
    "```"
   ]
  },
  {
   "cell_type": "markdown",
   "id": "c83f4dbe-2543-4e37-affc-df33d2032e5e",
   "metadata": {},
   "source": [
    "---\n",
    "\n",
    "### Exercise 3:\n",
    "Create a NumPy array of 10 evenly spaced numbers between 0 and 5.\n",
    "\n",
    "```python\n",
    "# Exercise 3\n",
    "```"
   ]
  },
  {
   "cell_type": "markdown",
   "id": "4c66aaf7-b043-4361-8151-f70717cc51e8",
   "metadata": {},
   "source": [
    "```python\n",
    "space = np.linspace(0, 5, 10)\n",
    "space\n",
    "```"
   ]
  },
  {
   "cell_type": "markdown",
   "id": "6ac1be48-be4b-4570-8509-e0f313eb0d2f",
   "metadata": {},
   "source": [
    "---\n",
    "\n",
    "### Exercise 4:\n",
    "Create a 5x5 identity matrix using NumPy.\n",
    "\n",
    "```python\n",
    "# Exercise 4\n",
    "```"
   ]
  },
  {
   "cell_type": "markdown",
   "id": "8c521a6b-b953-4c4d-a223-fc6c3ba7b497",
   "metadata": {},
   "source": [
    "```python\n",
    "np.eye(5)\n",
    "```\n"
   ]
  },
  {
   "cell_type": "markdown",
   "id": "7a1a8c5f-34d4-4c6c-9c3a-f31a8b73c2d8",
   "metadata": {},
   "source": [
    "---\n",
    "\n",
    "### Exercise 5:\n",
    "Create a 4x4 matrix with random values between 0 and 1.\n",
    "\n",
    "```python\n",
    "# Exercise 5\n",
    "```"
   ]
  },
  {
   "cell_type": "markdown",
   "id": "ab1bee7a-dbd9-485c-b6b9-a8bfbaca80e1",
   "metadata": {},
   "source": [
    "```python\n",
    "np.random.random((4, 4))\n",
    "```"
   ]
  },
  {
   "cell_type": "markdown",
   "id": "2b23f768-1e35-4c68-87bd-cb5fb9d5dad7",
   "metadata": {},
   "source": [
    "---\n",
    "\n",
    "### Exercise 6:\n",
    "Find the shape of a NumPy array.\n",
    "\n",
    "```python\n",
    "# Exercise 6\n",
    "```"
   ]
  },
  {
   "cell_type": "markdown",
   "id": "463a7cc5-dbf8-4d67-9f91-fd71bb932804",
   "metadata": {},
   "source": [
    "```python\n",
    "print(np.random.random((4, 4)).shape)\n",
    "```"
   ]
  },
  {
   "cell_type": "markdown",
   "id": "5ed304b3-7111-4ae2-8385-5679e12fc17c",
   "metadata": {},
   "source": [
    "---\n",
    "\n",
    "### Exercise 7:\n",
    "Reshape a 1D NumPy array of 16 elements into a 4x4 matrix.\n",
    "\n",
    "```python\n",
    "# Exercise 7\n",
    "```"
   ]
  },
  {
   "cell_type": "markdown",
   "id": "f9ef4f88-ceec-4ec8-a133-5753885bf7c1",
   "metadata": {},
   "source": [
    "```python\n",
    "np.arange(1, 17, 1).reshape(4, 4)\n",
    "```"
   ]
  },
  {
   "cell_type": "markdown",
   "id": "72b0c4b5-6160-49a5-85fe-cf4ba06e80a8",
   "metadata": {},
   "source": [
    "---\n",
    "\n",
    "### Exercise 8:\n",
    "Find the data type of the elements in a NumPy array.\n",
    "\n",
    "```python\n",
    "# Exercise 8\n",
    "```"
   ]
  },
  {
   "cell_type": "markdown",
   "id": "6a1d0d74-c5b1-4898-ae89-8b2c7bd27860",
   "metadata": {},
   "source": [
    "```python\n",
    "n = np.random.random((4, 4))\n",
    "print(type(n))\n",
    "print(n.shape)\n",
    "\n",
    "d = np.random.randint(10, 50, size=(6, 6))\n",
    "print(type(d))\n",
    "print(d.shape)\n",
    "```"
   ]
  },
  {
   "cell_type": "markdown",
   "id": "279827ef-4bed-4551-bc49-0ebc515d289c",
   "metadata": {},
   "source": [
    "---\n",
    "\n",
    "### Exercise 9:\n",
    "Create a NumPy array of integers from 1 to 100 and find all even numbers in the array.\n",
    "\n",
    "```python\n",
    "# Exercise 9\n",
    "```"
   ]
  },
  {
   "cell_type": "markdown",
   "id": "5664b467-6e6b-4312-a7f2-1d053b72fbc4",
   "metadata": {},
   "source": [
    "```python\n",
    "even = np.arange(1, 101, 1)\n",
    "even = even[even % 2 == 0]\n",
    "even\n",
    "```"
   ]
  },
  {
   "cell_type": "markdown",
   "id": "af91b1b7-ffcd-4777-8ad1-bb462e86d938",
   "metadata": {},
   "source": [
    "---\n",
    "\n",
    "### Exercise 10:\n",
    "Generate a 6x6 matrix of random integers between 10 and 50.\n",
    "\n",
    "```python\n",
    "# Exercise 10\n",
    "```"
   ]
  },
  {
   "cell_type": "markdown",
   "id": "be91b0a2-cb9a-4d50-9915-8e9a908c1e53",
   "metadata": {},
   "source": [
    "```python\n",
    "np.random.seed(0)\n",
    "np.random.randint(10, 50, size=(6, 6))\n",
    "```"
   ]
  },
  {
   "cell_type": "markdown",
   "id": "ccae56c0-c5a4-4b4e-b538-91f06c076993",
   "metadata": {},
   "source": []
  },
  {
   "cell_type": "markdown",
   "id": "7b67c01a-4039-4d8b-8b0b-744aa78de01f",
   "metadata": {},
   "source": [
    "---\n",
    "\n",
    "### Exercise 11:\n",
    "Slice a 2D NumPy array to extract a submatrix.\n",
    "\n",
    "```python\n",
    "# Exercise 11\n",
    "```"
   ]
  },
  {
   "cell_type": "markdown",
   "id": "3361c1a5-1bed-49c8-854f-38860dc2f717",
   "metadata": {},
   "source": [
    "```python\n",
    "array = np.array([2,3,4,5])\n",
    "matrix = np.random.randint(10, 50, size=(6, 6))\n",
    "\n",
    "matrix[array]\n",
    "```"
   ]
  },
  {
   "cell_type": "markdown",
   "id": "cf8f2de1-7728-42c9-8041-87928fda9eca",
   "metadata": {},
   "source": [
    "---\n",
    "\n",
    "### Exercise 12:\n",
    "Calculate the sum of all elements in a NumPy array.\n",
    "\n",
    "```python\n",
    "# Exercise 12\n",
    "```"
   ]
  },
  {
   "cell_type": "markdown",
   "id": "4c960a99-1ff8-47d3-ae3b-fc30942ba447",
   "metadata": {},
   "source": [
    "```python\n",
    "matrix = np.random.randint(10, 50, size=(6, 6))\n",
    "print(np.sum(matrix))\n",
    "```"
   ]
  },
  {
   "cell_type": "markdown",
   "id": "33279e10-51c3-41e6-8666-01c374d91dbf",
   "metadata": {},
   "source": [
    "---\n",
    "\n",
    "### Exercise 13:\n",
    "Calculate the mean, median, and standard deviation of a NumPy array.\n",
    "\n",
    "```python\n",
    "# Exercise 13\n",
    "```"
   ]
  },
  {
   "cell_type": "markdown",
   "id": "6b0dbf33-65ea-48e3-aee7-499396fa1fe0",
   "metadata": {},
   "source": [
    "```python\n",
    "matrix = np.random.randint(10, 50, size=(6, 6))\n",
    "print(\"Mean = \", np.mean(matrix, axis=0))\n",
    "print(\"Median = \",np.median(matrix, axis=0))\n",
    "print(\"Standard deviation = \",np.std(matrix, axis=0))\n",
    "```"
   ]
  },
  {
   "cell_type": "markdown",
   "id": "74556e68-b922-4426-a963-1c2446cfc2d5",
   "metadata": {},
   "source": [
    "```python\n",
    "matrix = np.random.randint(10, 50, size=(6, 6))\n",
    "print(\"Mean = \", np.mean(matrix, axis=1))\n",
    "print(\"Median = \",np.median(matrix, axis=1))\n",
    "print(\"Standard deviation = \",np.std(matrix, axis=1))\n",
    "```"
   ]
  },
  {
   "cell_type": "markdown",
   "id": "160a0969-b5e3-4773-8879-0288072ffa75",
   "metadata": {},
   "source": [
    "```python\n",
    "matrix = np.random.randint(10, 50, size=(6, 6))\n",
    "print(\"Mean = \", np.mean(matrix))\n",
    "print(\"Median = \",np.median(matrix))\n",
    "print(\"Standard deviation = \",np.std(matrix))\n",
    "```"
   ]
  },
  {
   "cell_type": "markdown",
   "id": "74758c9d-57aa-4f4d-8166-15f94b7bb73a",
   "metadata": {},
   "source": [
    "```python\n",
    "x = np.arange(1, 100, 1)\n",
    "print(\"Mean = \", np.mean(matrix))\n",
    "print(\"Median = \",np.median(matrix))\n",
    "print(\"Standard deviation = \",np.std(matrix))\n",
    "```"
   ]
  },
  {
   "cell_type": "markdown",
   "id": "0f8601b0-5b62-4a7f-9100-d6675c1d0493",
   "metadata": {},
   "source": [
    "---\n",
    "\n",
    "### Exercise 14:\n",
    "Find the maximum and minimum values in a NumPy array.\n",
    "\n",
    "```python\n",
    "# Exercise 14\n",
    "```"
   ]
  },
  {
   "cell_type": "markdown",
   "id": "338bb81e-d770-40c4-9151-4a9893c010f5",
   "metadata": {
    "scrolled": true
   },
   "source": [
    "```python\n",
    "matrix = np.random.randint(10, 50, size=(6, 6))\n",
    "print(\"Minimum values = \", np.min(matrix))\n",
    "print(\"Maximum values  = \",np.max(matrix))\n",
    "```"
   ]
  },
  {
   "cell_type": "markdown",
   "id": "b83daa59-824e-4bf2-9e3d-a9442bd3a5ff",
   "metadata": {},
   "source": [
    "```python\n",
    "matrix = np.random.randint(10, 50, size=(6, 6))\n",
    "print(\"Minimum values = \", np.argmin(matrix))\n",
    "print(\"Maximum values  = \",np.argmax(matrix))\n",
    "```"
   ]
  },
  {
   "cell_type": "markdown",
   "id": "b61ff45b-266f-4f5e-82e9-05388b441a41",
   "metadata": {},
   "source": [
    "---\n",
    "\n",
    "### Exercise 15:\n",
    "Create a NumPy array of 20 random integers and find the index of the maximum value.\n",
    "\n",
    "```python\n",
    "# Exercise 15\n",
    "```"
   ]
  },
  {
   "cell_type": "markdown",
   "id": "f2a05da1-95db-4b42-9783-fd0f39716501",
   "metadata": {},
   "source": [
    "```python\n",
    "y = np.random.randint(20, size=20)\n",
    "print(y)\n",
    "print(\"Minimum values = \", np.argmin(y))\n",
    "```"
   ]
  },
  {
   "cell_type": "markdown",
   "id": "5a339a06-7d81-4d8d-912c-f4ca7ba9625c",
   "metadata": {},
   "source": [
    "---\n",
    "\n",
    "### Exercise 16:\n",
    "Create a NumPy array and reverse its elements.\n",
    "\n",
    "```python\n",
    "# Exercise 16\n",
    "```"
   ]
  },
  {
   "cell_type": "markdown",
   "id": "74cedbbd-611b-4aea-99bc-2e4da9f16b68",
   "metadata": {},
   "source": [
    "```python\n",
    "reverse = np.random.randint(20, size=20)\n",
    "print(\"The original array: \", reverse)\n",
    "reverse = reverse[::-1]\n",
    "print(\"The reversed array: \", reverse)\n",
    "```"
   ]
  },
  {
   "cell_type": "markdown",
   "id": "dd001653-2ae1-4653-8d65-f8d3b227f37c",
   "metadata": {},
   "source": [
    "---\n",
    "\n",
    "### Exercise 17:\n",
    "Create a 3x3 matrix and multiply it element-wise by another 3x3 matrix.\n",
    "\n",
    "```python\n",
    "# Exercise 17\n",
    "```"
   ]
  },
  {
   "cell_type": "markdown",
   "id": "4bc2a4c6-86e1-47e6-96c8-57b89d3f742f",
   "metadata": {},
   "source": [
    "```python\n",
    "x1 = np.random.randint(50, size=(3,3))\n",
    "print(\"The first matrix \\n{}\".format(x1))\n",
    "x2 = np.random.randint(30, size=(3,3))\n",
    "print(\"The second matrix \\n{}\".format(x2))\n",
    "\n",
    "print(\"The element wise multiplication is \\n{}\".format(x1 * x2))              # element wise\n",
    "```"
   ]
  },
  {
   "cell_type": "markdown",
   "id": "f437c8c1-e020-45b5-9d71-02d36646ba82",
   "metadata": {},
   "source": [
    "---\n",
    "\n",
    "### Exercise 18:\n",
    "Create a diagonal matrix from a given 1D array.\n",
    "\n",
    "```python\n",
    "# Exercise 18\n",
    "```"
   ]
  },
  {
   "cell_type": "markdown",
   "id": "7a1c95ca-18c9-4fbe-afec-4f985a4de448",
   "metadata": {},
   "source": [
    "```python\n",
    "np.diag(np.arange(1, 5, 1))\n",
    "```"
   ]
  },
  {
   "cell_type": "markdown",
   "id": "f63382fc-5b01-47e2-b1c1-8a0e6a841aa0",
   "metadata": {},
   "source": [
    "---\n",
    "\n",
    "### Exercise 19:\n",
    "Perform matrix multiplication on two 2D NumPy arrays.\n",
    "\n",
    "```python\n",
    "# Exercise 19\n",
    "```"
   ]
  },
  {
   "cell_type": "markdown",
   "id": "de8865e8-960e-42f7-9254-6df3cba8479f",
   "metadata": {},
   "source": [
    "```python\n",
    "x1 = np.random.randint(50, size=(3,3))\n",
    "print(\"The first matrix \\n{}\".format(x1))\n",
    "x2 = np.random.randint(30, size=(3,3))\n",
    "print(\"The second matrix \\n{}\".format(x2))\n",
    "\n",
    "print(\"The element wise multiplication is \\n{}\".format(np.multiply(x1, x2)))\n",
    "print(\"The multiplication is of two matrices \\n{}\".format(np.dot(x1, x2)))\n",
    "```\n"
   ]
  },
  {
   "cell_type": "markdown",
   "id": "7a369c63-b747-4451-aa8c-8f5e87977699",
   "metadata": {},
   "source": [
    "---\n",
    "\n",
    "### Exercise 20:\n",
    "Flatten a 2D NumPy array into a 1D array.\n",
    "\n",
    "```python\n",
    "# Exercise 20\n",
    "```"
   ]
  },
  {
   "cell_type": "markdown",
   "id": "b710f74d-873d-423d-a6cd-de983fc15e8a",
   "metadata": {
    "scrolled": true
   },
   "source": [
    "```python\n",
    "mat = np.random.randint(15, 100, size=(3, 4))\n",
    "print(\"The 2D array \\n{}\".format(mat))\n",
    "print(\"\\nThe flatten array \\n{}\".format(np.reshape(mat, (mat.size,))))\n",
    "```"
   ]
  },
  {
   "cell_type": "markdown",
   "id": "6f9e74de-7ed3-4050-8b12-caa4e6948641",
   "metadata": {},
   "source": [
    "---\n",
    "\n",
    "### Exercise 21:\n",
    "Stack two NumPy arrays vertically.\n",
    "\n",
    "```python\n",
    "# Exercise 21\n",
    "```"
   ]
  },
  {
   "cell_type": "markdown",
   "id": "1bcf08d3-e728-45d7-b386-ebd65c68b349",
   "metadata": {},
   "source": [
    "```python\n",
    "stack1 = np.random.randint(15, 100, size=(4, 3))\n",
    "print(\"\\nThe first array \\n{}\".format(stack1))\n",
    "\n",
    "stack2 = np.random.randint(15, 100, size=(2, 3))\n",
    "print(\"\\nThe second array \\n{}\".format(stack2))\n",
    "\n",
    "\n",
    "print(\"\\nThe vertically stacked array \\n{}\".format(np.vstack((stack1,stack2))))\n",
    "```\n"
   ]
  },
  {
   "cell_type": "markdown",
   "id": "600c4b10-b26f-4cad-b724-617a93043c29",
   "metadata": {},
   "source": [
    "---\n",
    "\n",
    "### Exercise 22:\n",
    "Stack two NumPy arrays horizontally.\n",
    "\n",
    "```python\n",
    "# Exercise 22\n",
    "```"
   ]
  },
  {
   "cell_type": "markdown",
   "id": "c147f601-92b2-416b-977b-f4b4f9dee472",
   "metadata": {},
   "source": [
    "```python\n",
    "stack1 = np.random.randint(15, 100, size=(4, 3))\n",
    "print(\"\\nThe first array \\n{}\".format(stack1))\n",
    "stack2 = np.random.randint(15, 100, size=(4, 3))\n",
    "print(\"\\nThe second array \\n{}\".format(stack2))\n",
    "\n",
    "\n",
    "print(\"\\nThe horizontally stacked array \\n{}\".format(np.hstack((stack1,stack2))))\n",
    "```"
   ]
  },
  {
   "cell_type": "markdown",
   "id": "35f9d2af-657b-4279-acab-2c7a3efaec75",
   "metadata": {},
   "source": [
    "---\n",
    "\n",
    "### Exercise 23:\n",
    "Split a NumPy array into multiple sub-arrays.\n",
    "\n",
    "```python\n",
    "# Exercise 23\n",
    "```"
   ]
  },
  {
   "cell_type": "markdown",
   "id": "3317eb42-3051-4454-8a4a-552131d16a91",
   "metadata": {},
   "source": [
    "```python\n",
    "stack1 = np.random.randint(15, 100, size=(4, 3))\n",
    "np.split(stack1, 4, axis=0)\n",
    "```"
   ]
  },
  {
   "cell_type": "markdown",
   "id": "7f5a785d-8f35-4dc0-b8af-2534271385b4",
   "metadata": {},
   "source": [
    "---\n",
    "\n",
    "### Exercise 24:\n",
    "Generate a random NumPy array and round each element to two decimal places.\n",
    "\n",
    "```python\n",
    "# Exercise 24\n",
    "```"
   ]
  },
  {
   "cell_type": "markdown",
   "id": "c6ec0d45-2a10-489e-bfb4-6a9352e542a2",
   "metadata": {},
   "source": [
    "```python\n",
    "matrix1 = np.random.random((4, 4))\n",
    "np.round(matrix1, 2)\n",
    "```"
   ]
  },
  {
   "cell_type": "markdown",
   "id": "480b8d7f-085f-41d9-b27c-bf20a94508ac",
   "metadata": {},
   "source": [
    "---\n",
    "\n",
    "### Exercise 25:\n",
    "Find the unique elements of a NumPy array.\n",
    "\n",
    "```python\n",
    "# Exercise 25\n",
    "```"
   ]
  },
  {
   "cell_type": "markdown",
   "id": "f79576eb-29c4-47c0-ba1f-986ec669f64b",
   "metadata": {},
   "source": [
    "```python\n",
    "a = np.array([[1, 0, 0], [1, 0, 0], [2, 3, 4]])\n",
    "np.unique(a, axis=0)\n",
    "```"
   ]
  },
  {
   "cell_type": "markdown",
   "id": "7e422707-18dc-4fde-8288-633954def91b",
   "metadata": {},
   "source": [
    "```python\n",
    "b = np.array([1, 2, 6, 4, 2, 3, 2])\n",
    "np.unique(a, return_counts=True)\n",
    "```"
   ]
  },
  {
   "cell_type": "markdown",
   "id": "0cb1d993-25e9-4097-807f-d429d024909a",
   "metadata": {},
   "source": [
    "---\n",
    "\n",
    "### Exercise 26:\n",
    "Replace all elements in a NumPy array that are less than a specific value with that value.\n",
    "\n",
    "```python\n",
    "# Exercise 26\n",
    "```"
   ]
  },
  {
   "cell_type": "markdown",
   "id": "c89199d6-6a60-4e62-835e-9bb2da7ffa63",
   "metadata": {},
   "source": [
    "```python\n",
    "value = np.random.randint(5, 15, size=(4, 3))\n",
    "print(\"The array \\n{}\".format(value))\n",
    "value[value < 10] = 10\n",
    "print(\"\\nThe new array \\n{}\".format(value))\n",
    "```"
   ]
  },
  {
   "cell_type": "markdown",
   "id": "f5f0c6b8-953a-42c6-9522-1b1a7da0ba41",
   "metadata": {},
   "source": [
    "---\n",
    "\n",
    "### Exercise 27:\n",
    "Find the cumulative sum of the elements in a NumPy array.\n",
    "\n",
    "```python\n",
    "# Exercise 27\n",
    "```"
   ]
  },
  {
   "cell_type": "markdown",
   "id": "6d7c43a3-7012-4c93-93e1-0e6d8bb4bf80",
   "metadata": {},
   "source": [
    "```python\n",
    "elements = np.random.randint(25, 45, size=(4, 4))\n",
    "np.cumsum(elements)\n",
    "```"
   ]
  },
  {
   "cell_type": "markdown",
   "id": "1c4c3997-db98-439b-8a7e-b1bbbde93a83",
   "metadata": {},
   "source": [
    "---\n",
    "\n",
    "### Exercise 28:\n",
    "Create a NumPy array and find the number of non-zero elements in it.\n",
    "\n",
    "```python\n",
    "# Exercise 28\n",
    "```"
   ]
  },
  {
   "cell_type": "markdown",
   "id": "8086b843-e4d7-4072-ac3a-52f6e15fcf8d",
   "metadata": {
    "scrolled": true
   },
   "source": [
    "```python\n",
    "non_zero = np.random.random((4, 4))\n",
    "print(\"\\nThe array \\n{}\".format(non_zero))\n",
    "non_zero = non_zero[non_zero>0]\n",
    "print(\"\\nThe non zero array \\n{}\".format(non_zero))\n",
    "```"
   ]
  },
  {
   "cell_type": "markdown",
   "id": "17cdbcf9-97b9-4c05-8e11-7db04ff2f5e7",
   "metadata": {},
   "source": [
    "---\n",
    "\n",
    "### Exercise 29:\n",
    "Create a NumPy array of random integers and sort it in ascending order.\n",
    "\n",
    "```python\n",
    "# Exercise 29\n",
    "```"
   ]
  },
  {
   "cell_type": "markdown",
   "id": "6fa26bab-b398-494c-a3e2-fc1e236340e3",
   "metadata": {},
   "source": [
    "```python\n",
    "integer_array1 = np.random.randint(29, size=20)\n",
    "print(\"\\nThe array \\n{}\".format(integer_array1))\n",
    "\n",
    "print(\"\\nThe sorted array \\n{}\".format(np.sort(integer_array1)))\n",
    "```"
   ]
  },
  {
   "cell_type": "markdown",
   "id": "8afcd0df-5382-46ce-b176-30f86178174b",
   "metadata": {
    "scrolled": true
   },
   "source": [
    "```python\n",
    "integer_array2 = np.random.randint(20, 100, size=(4, 5))\n",
    "print(\"The array{}\".format(integer_array2))\n",
    "print(\"\\nThe sorted array sorted rowise \\n{}\".format(np.sort(integer_array2, axis=-1)))  # sorted rowise\n",
    "print(\"\\nThe sorted array sorted columnwise \\n{}\".format(np.sort(integer_array2, axis=0)))   # sorted columnwise\n",
    "```"
   ]
  },
  {
   "cell_type": "markdown",
   "id": "696d4175-f36f-4eab-a06a-3b681154cc34",
   "metadata": {},
   "source": [
    "---\n",
    "\n",
    "### Exercise 30:\n",
    "Find the row-wise and column-wise sum of a 3x3 matrix.\n",
    "\n",
    "```python\n",
    "# Exercise 30\n",
    "```"
   ]
  },
  {
   "cell_type": "markdown",
   "id": "c6337d24-5aa5-4333-ae78-099cd6ad445d",
   "metadata": {},
   "source": [
    "```python\n",
    "summs = np.random.randint(20, 100, size=(3, 3))\n",
    "print(\"The array \\n{}\".format(summs))\n",
    "print(\"\\nThe row-wise sums \\n{}\".format(np.sum(summs, axis=-1)))  # sorted rowise\n",
    "print(\"\\nThe column-wise sums \\n{}\".format(np.sum(summs, axis=0)))   # sorted columnwise\n",
    "```"
   ]
  },
  {
   "cell_type": "markdown",
   "id": "6301145d-d57e-407d-863a-913f0831f882",
   "metadata": {},
   "source": [
    "---\n",
    "\n",
    "### Exercise 31:\n",
    "Generate a 2D NumPy array with random values and normalize it (scale the values between 0 and 1).\n",
    "\n",
    "```python\n",
    "# Exercise 31\n",
    "```"
   ]
  },
  {
   "cell_type": "markdown",
   "id": "b43377da-be04-41b3-8a85-f781303d48eb",
   "metadata": {},
   "source": [
    "```python\n",
    "norm = np.random.randint(10, 20, size=(6, 6))\n",
    "\n",
    "print(\"\\nThe raw matrix \\n{}\".format(norm))\n",
    "\n",
    "norm = ([(norm - np.min(norm))/(np.max(norm) - np.min(norm))])\n",
    "print(\"\\nThe normalised matrix \\n{}\".format(norm))\n",
    "```"
   ]
  },
  {
   "cell_type": "markdown",
   "id": "04d44d0f-4d94-4322-b626-e401ca8533f2",
   "metadata": {},
   "source": [
    "---\n",
    "\n",
    "### Exercise 32:\n",
    "Create two NumPy arrays and find the dot product.\n",
    "\n",
    "```python\n",
    "# Exercise 32\n",
    "```"
   ]
  },
  {
   "cell_type": "markdown",
   "id": "5fb7e2f9-721e-4b93-8e5c-a856f873a3de",
   "metadata": {
    "scrolled": true
   },
   "source": [
    "```python\n",
    "y1 = np.random.randint(10, 30, size=(6, 6))\n",
    "y2 = np.random.randint(5, 30, size=(6, 6))\n",
    "\n",
    "print(\"\\nThe product \\n{}\".format(np.dot(y1,y2)))\n",
    "```"
   ]
  },
  {
   "cell_type": "markdown",
   "id": "d730ca2e-a1e4-46e3-950a-b9c98f66f107",
   "metadata": {},
   "source": [
    "---\n",
    "\n",
    "### Exercise 33:\n",
    "Find the trace of a square NumPy matrix.\n",
    "\n",
    "```python\n",
    "# Exercise 33\n",
    "```"
   ]
  },
  {
   "cell_type": "markdown",
   "id": "5d51b9b3-5590-450f-a924-c56f256ad774",
   "metadata": {},
   "source": [
    "```python\n",
    "square = np.random.randint(22, 54, size=(6, 6))\n",
    "\n",
    "print(\"\\nThe trace value is: \\n{}\".format(np.trace(square)))\n",
    "```\n"
   ]
  },
  {
   "cell_type": "markdown",
   "id": "180f787b-b3fb-40da-8873-8caa0e1f6fb2",
   "metadata": {},
   "source": [
    "---\n",
    "\n",
    "### Exercise 34:\n",
    "Create a 2D array and swap two rows.\n",
    "\n",
    "```python\n",
    "# Exercise 34\n",
    "```"
   ]
  },
  {
   "cell_type": "markdown",
   "id": "759daad4-9372-4e7f-a890-05b4b9c102aa",
   "metadata": {},
   "source": [
    "```python\n",
    "swap = np.random.randint(22, 54, size=(5, 5))\n",
    "\n",
    "print(\"\\nThe tace value is: \\n{}\".format(swap))\n",
    "swap[[0, 2]] = swap[[2, 0]]\n",
    "\n",
    "print(\"\\nThe swapped array rows is: \\n{}\".format(swap))\n",
    "```"
   ]
  },
  {
   "cell_type": "markdown",
   "id": "58c533ee-0178-4d9e-900b-edc536ba4356",
   "metadata": {},
   "source": [
    "---\n",
    "\n",
    "### Exercise 35:\n",
    "Create a 1D NumPy array and convert it into a column vector.\n",
    "\n",
    "```python\n",
    "# Exercise 35\n",
    "```"
   ]
  },
  {
   "cell_type": "markdown",
   "id": "9c793224-53ee-4bbc-a9b9-36a418d621ad",
   "metadata": {},
   "source": [
    "```python\n",
    "vector = np.random.randint(22, 54, size=(3, 3))\n",
    "print(\"The column vector \\n{}\".format(np.reshape(vector, (vector.size,))))\n",
    "```"
   ]
  },
  {
   "cell_type": "markdown",
   "id": "054eff3e-860a-4b9d-93c9-c23c34ff7ae0",
   "metadata": {},
   "source": [
    "---\n",
    "\n",
    "### Exercise 36:\n",
    "Find the determinant of a 3x3 matrix.\n",
    "\n",
    "```python\n",
    "# Exercise 36\n",
    "```"
   ]
  },
  {
   "cell_type": "markdown",
   "id": "4e462c8d-5b88-4ae8-89b4-8ae08de0f0cb",
   "metadata": {},
   "source": [
    "```python\n",
    "det = np.random.randint(2, 7, size=(3, 3))\n",
    "print(\"The determinant of the matrix \\n{}\".format(np.linalg.det(det)))\n",
    "```"
   ]
  },
  {
   "cell_type": "markdown",
   "id": "18fc08e0-a3dc-469b-ac14-6bab167f8fdf",
   "metadata": {},
   "source": [
    "---\n",
    "\n",
    "### Exercise 37:\n",
    "Find the eigenvalues and eigenvectors of a 2x2 matrix.\n",
    "\n",
    "```python\n",
    "# Exercise 37\n",
    "```"
   ]
  },
  {
   "cell_type": "markdown",
   "id": "3cf981e7-7400-40ed-9310-cd371da66d7a",
   "metadata": {},
   "source": [
    "```python\n",
    "det = np.random.randint(10, 20, size=(2, 2))\n",
    "print(\"The eigenvalues and eigenvectors of the matrix \\n{}\".format(np.linalg.eig(det)))\n",
    "```"
   ]
  },
  {
   "cell_type": "markdown",
   "id": "9a8efa02-d8ed-494b-8dd8-a5ae373ba2d0",
   "metadata": {},
   "source": [
    "---\n",
    "\n",
    "### Exercise 38:\n",
    "Solve a system of linear equations using NumPy.\n",
    "\n",
    "```python\n",
    "# Exercise 38\n",
    "```"
   ]
  },
  {
   "cell_type": "markdown",
   "id": "452bfb12-0c72-43be-80ae-9e14e1ddfe57",
   "metadata": {},
   "source": [
    "```python\n",
    "a = np.random.randint(11, 18, size=(3, 3))\n",
    "b = np.random.randint(33, 44, size=(3, 3))\n",
    "print(\"The system of linear equations for matrices \\n{}\".format(np.linalg.solve(a, b)))\n",
    "```"
   ]
  },
  {
   "cell_type": "markdown",
   "id": "2324ac19-7498-4b97-8f2a-f24e179332fd",
   "metadata": {},
   "source": [
    "---\n",
    "\n",
    "### Exercise 39:\n",
    "Add Gaussian noise to a NumPy array.\n",
    "\n",
    "```python\n",
    "# Exercise 39\n",
    "```"
   ]
  },
  {
   "cell_type": "markdown",
   "id": "4e4a3c8a-3d7c-41ea-839a-55357d1a3d07",
   "metadata": {},
   "source": [
    "```python\n",
    "z = np.arange(11, 200, 2)\n",
    "print(\"The original data \\n{}\".format(z))\n",
    "\n",
    "z_noise = np.random.normal(0,2, len(z))\n",
    "print(\"\\nThe generated data \\n{}\".format(z_noise))\n",
    "\n",
    "z_norm = 2*0.2 + 0.3\n",
    "z_noised = z_norm + z_noise \n",
    "\n",
    "print(\"\\nThe noised data \\n{}\".format(z_noise))\n",
    "```"
   ]
  },
  {
   "cell_type": "markdown",
   "id": "5693bfd3-6749-45ea-aa89-5dabf4da97b6",
   "metadata": {},
   "source": [
    "---\n",
    "\n",
    "### Exercise 40:\n",
    "Create a 4x4 matrix and extract the diagonal elements.\n",
    "\n",
    "```python\n",
    "# Exercise 40\n",
    "```"
   ]
  },
  {
   "cell_type": "markdown",
   "id": "74be5ebd-f916-48b1-af73-6273f35189c5",
   "metadata": {},
   "source": [
    "```python\n",
    "m = np.random.random((4, 4))\n",
    "print(\"The original matrix \\n{}\".format(m))\n",
    "diag = np.diag(m)\n",
    "print(\"\\nThe diagonal data \\n{}\".format(diag))\n",
    "```"
   ]
  },
  {
   "cell_type": "markdown",
   "id": "514f9c45-e656-4d70-aef1-f5612f73cf63",
   "metadata": {},
   "source": [
    "---\n",
    "\n",
    "### Exercise 41:\n",
    "Generate a NumPy array of 100 random values and clip the values to a range between 10 and 50.\n",
    "\n",
    "```python\n",
    "# Exercise 41\n",
    "```"
   ]
  },
  {
   "cell_type": "markdown",
   "id": "946722f3-a705-4942-8cd6-0f490d441a41",
   "metadata": {},
   "source": [
    "```python\n",
    "random_values = np.random.randint(10, 50, size=100)\n",
    "print(\"The  random values \\n{}\".format(random_values))\n",
    "```"
   ]
  },
  {
   "cell_type": "markdown",
   "id": "bcce39d5-f55d-463c-bd29-d9ad57c4b626",
   "metadata": {},
   "source": [
    "---\n",
    "\n",
    "### Exercise 42:\n",
    "Create a 2D NumPy array and replace all negative values with zero.\n",
    "\n",
    "```python\n",
    "# Exercise 42\n",
    "```"
   ]
  },
  {
   "cell_type": "markdown",
   "id": "66441c53-877b-4a5b-8058-1e0394ee9ae7",
   "metadata": {
    "scrolled": true
   },
   "source": [
    "```python\n",
    "negative = np.random.randn(5,10)\n",
    "print(\"The array \\n{}\".format(negative))\n",
    "negative[negative < 0] = 0\n",
    "print(\"\\nThe new array \\n{}\".format(negative))\n",
    "```"
   ]
  },
  {
   "cell_type": "markdown",
   "id": "620736a4-ae02-43d2-91a3-dd584858c26d",
   "metadata": {},
   "source": [
    "---\n",
    "\n",
    "### Exercise 43:\n",
    "Find the inner and outer products of two NumPy arrays.\n",
    "\n",
    "```python\n",
    "# Exercise 43\n",
    "```"
   ]
  },
  {
   "cell_type": "markdown",
   "id": "4e6a4408-956a-4ba8-bbe9-11765f03c243",
   "metadata": {},
   "source": [
    "```python\n",
    "pro_array1 = np.random.randint(10, 30, size=(3, 3))\n",
    "pro_array2 = np.random.randint(5, 30, size=(3, 3))\n",
    "\n",
    "print(\"\\nThe inner products \\n{}\".format(np.inner(pro_array1,pro_array2)))\n",
    "print(\"\\nThe outer products \\n{}\".format(np.outer(pro_array1,pro_array2)))\n",
    "```"
   ]
  },
  {
   "cell_type": "markdown",
   "id": "8f438a15-ac3e-4206-8bb6-0346b0b9b7f3",
   "metadata": {},
   "source": [
    "---\n",
    "\n",
    "### Exercise 44:\n",
    "Calculate the pairwise distances between points in a NumPy array.\n",
    "\n",
    "```python\n",
    "# Exercise 44\n",
    "```"
   ]
  },
  {
   "cell_type": "markdown",
   "id": "95128e1b-4ad9-4a80-8c2f-c7ff3178329e",
   "metadata": {},
   "source": [
    "```python\n",
    "dist = np.random.randint(10, 100, size=(3, 3)) \n",
    "print(\"\\nThe inner products \\n{}\".format(dist))\n",
    "np.diff(dist)\n",
    "```"
   ]
  },
  {
   "attachments": {},
   "cell_type": "markdown",
   "id": "d588bba3-31ef-43b2-8614-615b911c983d",
   "metadata": {
    "jp-MarkdownHeadingCollapsed": true
   },
   "source": [
    "---\n",
    "\n",
    "### Exercise 45:\n",
    "Create a structured NumPy array with fields for `name`, `age`, and `height`.\n",
    "\n",
    "```python\n",
    "# Exercise 45\n",
    "```\n",
    "\n",
    "---\n",
    "\n",
    "### Exercise 46:\n",
    "Create a 5x5 matrix of random integers and count the occurrences of each unique value.\n",
    "\n",
    "```python\n",
    "# Exercise 46\n",
    "```\n",
    "\n",
    "---\n",
    "\n",
    "### Exercise 47:\n",
    "Generate a random 3x3 NumPy array and subtract the mean of each row from the corresponding row.\n",
    "\n",
    "```python\n",
    "# Exercise 47\n",
    "```\n",
    "\n",
    "---\n",
    "\n",
    "### Exercise 48:\n",
    "Create a NumPy array of random integers and check if any of the values are greater than 50.\n",
    "\n",
    "```python\n",
    "# Exercise 48\n",
    "```\n",
    "\n",
    "---\n",
    "\n",
    "### Exercise 49:\n",
    "Calculate the moving average of a 1D NumPy array.\n",
    "\n",
    "```python\n",
    "# Exercise 49\n",
    "```\n",
    "\n",
    "---\n",
    "\n",
    "### Exercise 50:\n",
    "Find the Pearson correlation coefficient between two NumPy arrays.\n",
    "\n",
    "```python\n",
    "# Exercise 50\n",
    "```\n",
    "\n",
    "---\n",
    "\n",
    "### Exercise 51:\n",
    "Convert a NumPy array of radians to degrees.\n",
    "\n",
    "```python\n",
    "# Exercise 51\n",
    "```\n",
    "\n",
    "---\n",
    "\n",
    "### Exercise 52:\n",
    "Create a random NumPy array and compute its variance and standard deviation.\n",
    "\n",
    "```python\n",
    "# Exercise 52\n",
    "```\n",
    "\n",
    "---\n",
    "\n",
    "### Exercise 53:\n",
    "Create a 2D NumPy array and find the indices of the maximum values along each axis.\n",
    "\n",
    "```python\n",
    "# Exercise 53\n",
    "```\n",
    "\n",
    "---\n",
    "\n",
    "### Exercise 54:\n",
    "Compute the inverse of a 2x2 NumPy matrix.\n",
    "\n",
    "```python\n",
    "# Exercise 54\n",
    "```\n",
    "\n",
    "---\n",
    "\n",
    "### Exercise 55:\n",
    "Create a NumPy array of 10 random values and standardize it (mean 0, variance 1).\n",
    "\n",
    "```python\n",
    "# Exercise 55\n",
    "```\n",
    "\n",
    "---\n",
    "\n",
    "### Exercise 56:\n",
    "Perform element-wise addition and subtraction on two NumPy arrays.\n",
    "\n",
    "```python\n",
    "# Exercise 56\n",
    "```\n",
    "\n",
    "---\n",
    "\n",
    "### Exercise 57:\n",
    "Create a NumPy array of random values and find the maximum element's index.\n",
    "\n",
    "```python\n",
    "# Exercise 57\n",
    "```\n",
    "\n",
    "---\n",
    "\n",
    "### Exercise 58:\n",
    "Create a 3x3 NumPy array and rotate it by 90 degrees.\n",
    "\n",
    "```python\n",
    "# Exercise 58\n",
    "```\n",
    "\n",
    "---\n",
    "\n",
    "### Exercise 59:\n",
    "Compute the Frobenius norm of a matrix.\n",
    "\n",
    "```python\n",
    "# Exercise 59\n",
    "```\n",
    "\n",
    "---\n",
    "\n",
    "### Exercise 60:\n",
    "Create a 3D NumPy array and slice out a subarray.\n",
    "\n",
    "```python\n",
    "# Exercise 60\n",
    "```\n",
    "\n",
    "---"
   ]
  }
 ],
 "metadata": {
  "kernelspec": {
   "display_name": "Python 3 (ipykernel)",
   "language": "python",
   "name": "python3"
  },
  "language_info": {
   "codemirror_mode": {
    "name": "ipython",
    "version": 3
   },
   "file_extension": ".py",
   "mimetype": "text/x-python",
   "name": "python",
   "nbconvert_exporter": "python",
   "pygments_lexer": "ipython3",
   "version": "3.12.3"
  }
 },
 "nbformat": 4,
 "nbformat_minor": 5
}
