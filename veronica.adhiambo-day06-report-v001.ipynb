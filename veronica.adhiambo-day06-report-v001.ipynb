{
 "cells": [
  {
   "cell_type": "markdown",
   "id": "d5465c96",
   "metadata": {},
   "source": [
    "#October 1, 2024"
   ]
  },
  {
   "cell_type": "markdown",
   "id": "cbd2d888-0f9d-4882-994f-b1dfe77d003f",
   "metadata": {},
   "source": [
    "# Summations and Products"
   ]
  },
  {
   "cell_type": "markdown",
   "id": "4eb4a43c-395c-476f-b74d-8703daf3e7c7",
   "metadata": {},
   "source": [
    " 1. Compute the following expressions for a natural number n chosen by the user:\n",
    "\n",
    " (i). $\\sum_{i=0}^{n-1}(i + 3)$\n",
    "\n",
    " (ii). $\\prod_{i=0}^{n-1}(i + 3)$"
   ]
  },
  {
   "cell_type": "code",
   "execution_count": 278,
   "id": "55470d4a-372a-4a73-9730-4fdb914e63b6",
   "metadata": {},
   "outputs": [
    {
     "name": "stdout",
     "output_type": "stream",
     "text": [
      "value of n:  55\n"
     ]
    },
    {
     "name": "stdout",
     "output_type": "stream",
     "text": [
      "The sum of 54 is 810\n"
     ]
    }
   ],
   "source": [
    "###### The summation\n",
    "N = int(input(\"value of n: \"))\n",
    "\n",
    "count = 0\n",
    "for i in range(N):\n",
    "    if(i % 2 != 0):\n",
    "        count = count + i + 3\n",
    "print(\"The sum of {} is {}\".format(N-1, count))\n"
   ]
  },
  {
   "cell_type": "code",
   "execution_count": 280,
   "id": "f434fbc9-68ea-4ff8-9347-124bb11da1cf",
   "metadata": {},
   "outputs": [
    {
     "name": "stdout",
     "output_type": "stream",
     "text": [
      "value of n:  22\n"
     ]
    },
    {
     "name": "stdout",
     "output_type": "stream",
     "text": [
      "The product of 21 is 316234143225\n"
     ]
    }
   ],
   "source": [
    "# The product\n",
    "N = int(input(\"value of n: \"))\n",
    "\n",
    "product = 1\n",
    "for i in range(N):\n",
    "    if(i % 2 == 0):\n",
    "        product = product * (i + 3)\n",
    "print(\"The product of {} is {}\".format(N-1, product))"
   ]
  },
  {
   "cell_type": "markdown",
   "id": "2b3b85dd-da95-4d51-8302-0b5a78f3d49b",
   "metadata": {},
   "source": [
    "2. Write a program that reads the number of the day of the week (from 0 to 6). If it is a\n",
    " working day, then the program will write the name of the corresponding day. Otherwise,\n",
    " it will write the word \"Weekend\"."
   ]
  },
  {
   "cell_type": "code",
   "execution_count": 282,
   "id": "d1806c5a-25d2-4a0d-a303-282f52352a6a",
   "metadata": {
    "scrolled": true
   },
   "outputs": [
    {
     "name": "stdout",
     "output_type": "stream",
     "text": [
      "Choose a number between 0 to 6: 4\n"
     ]
    },
    {
     "name": "stdout",
     "output_type": "stream",
     "text": [
      "The day is Thursday\n"
     ]
    }
   ],
   "source": [
    "day = int(input(\"Choose a number between 0 to 6:\"))\n",
    "\n",
    "if(day == 0): \n",
    "    print(\"The day is Weeked\")\n",
    "elif(day == 1):\n",
    "    print(\"The day is Monday\")\n",
    "elif(day == 2):\n",
    "    print(\"The day is Tuesday\")\n",
    "elif(day == 3):\n",
    "    print(\"The day is Wednesday\")\n",
    "elif(day == 4):\n",
    "    print(\"The day is Thursday\")\n",
    "elif(day == 5):\n",
    "    print(\"The day is Friday\")\n",
    "elif(day == 6):\n",
    "    print(\"The day is Weekend\")\n",
    "else:\n",
    "    print(\"wrong choice repeat again\")\n"
   ]
  },
  {
   "cell_type": "markdown",
   "id": "b97452a6-559f-4d0b-ac74-aea259ec38d8",
   "metadata": {},
   "source": [
    "3. Make a program that, given a month number (from 0 to 11), indicates how many days it has (28, 30 or 31), ignoring the leap years."
   ]
  },
  {
   "cell_type": "code",
   "execution_count": 288,
   "id": "2e53519d-aefa-4440-b326-98ad0e906395",
   "metadata": {},
   "outputs": [
    {
     "name": "stdout",
     "output_type": "stream",
     "text": [
      "Choose a number between 0 to 11: 11\n"
     ]
    },
    {
     "name": "stdout",
     "output_type": "stream",
     "text": [
      "The month is December and it has 31 days\n"
     ]
    }
   ],
   "source": [
    "# month = c[\"January\", \"Febuary\", \"March\", \"April\", \"May\", \"June\", \"July\", \"August\", \"September\", \"October\", \"November\", \"December\"]\n",
    "month = int(input(\"Choose a number between 0 to 11:\"))\n",
    "\n",
    "if(month == 0): \n",
    "    print(\"The month is January and it has 31 days\")\n",
    "elif(month == 1):\n",
    "    print(\"The month is Febuary and it has 28 days\")\n",
    "elif(month == 2):\n",
    "    print(\"The month is March and it has 31 days\")\n",
    "elif(month == 3):\n",
    "    print(\"The month is April and it has 30 days\")\n",
    "elif(month == 4):\n",
    "    print(\"The month is May and it has 31 days\")\n",
    "elif(month == 5):\n",
    "    print(\"The month is June and it has 30 days\")\n",
    "elif(month == 6):\n",
    "    print(\"The month is July and it has 31 days\")\n",
    "elif(month == 7):\n",
    "    print(\"The month is August and it has 31 days\")\n",
    "elif(month == 8):\n",
    "    print(\"The month is September and it has 30 days\")\n",
    "elif(month == 9):\n",
    "    print(\"The month is October and it has 31 days\")\n",
    "elif(month == 10):\n",
    "    print(\"The month is November and it has 30 days\")\n",
    "elif(month == 11):\n",
    "    print(\"The month is December and it has 31 days\")    \n",
    "else:\n",
    "    print(\"wrong number entered repeat again\")\n",
    "\n"
   ]
  },
  {
   "cell_type": "markdown",
   "id": "4508dd15-434c-431b-9f7b-45320387e858",
   "metadata": {},
   "source": [
    "4. Write two versions of python code that displays your name 3 times. One version with a \"for loop\" and another version with a \"while loop\"."
   ]
  },
  {
   "cell_type": "code",
   "execution_count": 290,
   "id": "d05dec1a-155d-4751-b603-d6bc3e9dec7d",
   "metadata": {},
   "outputs": [
    {
     "name": "stdout",
     "output_type": "stream",
     "text": [
      "Veronica Adhiambo\n",
      "Veronica Adhiambo\n",
      "Veronica Adhiambo\n"
     ]
    }
   ],
   "source": [
    "n = 3\n",
    "for i in range(n):\n",
    "    print('Veronica Adhiambo')"
   ]
  },
  {
   "cell_type": "code",
   "execution_count": 292,
   "id": "fd00aa9f-6e81-4e15-930b-917905228da3",
   "metadata": {},
   "outputs": [
    {
     "name": "stdout",
     "output_type": "stream",
     "text": [
      "Veronica Adhiambo\n",
      "Veronica Adhiambo\n",
      "Veronica Adhiambo\n"
     ]
    }
   ],
   "source": [
    "n='Veronica Adhiambo'\n",
    "i = 0\n",
    "while i<3:\n",
    "    print(n)\n",
    "    i = i + 1"
   ]
  },
  {
   "cell_type": "markdown",
   "id": "a1d36617-d823-4091-b1cd-26dae18e91c7",
   "metadata": {},
   "source": [
    " 5. Given two numbers $a_0$ and $a_1$, the Fibonacci sequence they generate is constructed from the recursion formula $a_{n+1} = a_n + a_{n−1}$. Calculate the first 15 terms of a Fibonacci\n",
    " sequence, asking the user the initial values."
   ]
  },
  {
   "cell_type": "code",
   "execution_count": 295,
   "id": "752bfcb6-1e60-48a9-a33d-582997fde1fa",
   "metadata": {},
   "outputs": [
    {
     "name": "stdout",
     "output_type": "stream",
     "text": [
      "Enter the first value of the sequence:  3\n",
      "Enter the second value of the sequence:  4\n"
     ]
    },
    {
     "name": "stdout",
     "output_type": "stream",
     "text": [
      "3\n",
      "4\n",
      "7\n",
      "11\n",
      "18\n",
      "29\n",
      "47\n",
      "76\n",
      "123\n",
      "199\n",
      "322\n",
      "521\n",
      "843\n",
      "1364\n",
      "2207\n"
     ]
    }
   ],
   "source": [
    "x0 = int(input(\"Enter the first value of the sequence: \"))\n",
    "x1 = int(input(\"Enter the second value of the sequence: \"))\n",
    "\n",
    "print(x0)\n",
    "print(x1)\n",
    "\n",
    "n = 15\n",
    "for i in range(n -2):\n",
    "    xn = x0 + x1\n",
    "    print(xn)\n",
    "    x0 = x1\n",
    "    x1 = xn\n",
    "    "
   ]
  },
  {
   "cell_type": "markdown",
   "id": "a6389f47-8443-4daa-aa00-95ac384391c8",
   "metadata": {},
   "source": [
    " 6. Compute the first 30 terms of the sequence defined by $2x_{n+2} − x_{n+1} − 6x_n$ = 0 sequence, given any two initial values x0 and x1"
   ]
  },
  {
   "cell_type": "code",
   "execution_count": 299,
   "id": "b49922d6-37d7-4831-83cb-e99015c5b7a8",
   "metadata": {},
   "outputs": [
    {
     "name": "stdout",
     "output_type": "stream",
     "text": [
      "Enter the first value of the sequence:  3\n",
      "Enter the second value of the sequence:  4\n"
     ]
    },
    {
     "name": "stdout",
     "output_type": "stream",
     "text": [
      "3\n",
      "4\n",
      "11.0\n",
      "17.5\n",
      "41.75\n",
      "73.375\n",
      "161.9375\n",
      "301.09375\n",
      "636.359375\n",
      "1221.4609375\n",
      "2519.80859375\n",
      "4924.287109375\n",
      "10021.5693359375\n",
      "19783.64599609375\n",
      "39956.531005859375\n",
      "79329.20349121094\n",
      "159534.1947631836\n",
      "317754.7078552246\n",
      "637479.9382171631\n",
      "1272004.0926742554\n",
      "2548441.860988617\n",
      "5090233.208517075\n",
      "10190442.187224388\n",
      "20365920.719163418\n",
      "40754286.92125487\n",
      "81474905.61811769\n",
      "163000313.57282346\n",
      "325924873.64076483\n",
      "651963377.5388528\n",
      "1303756309.691721\n"
     ]
    }
   ],
   "source": [
    "x_0 = int(input(\"Enter the first value of the sequence: \"))\n",
    "x_1 = int(input(\"Enter the second value of the sequence: \"))\n",
    "\n",
    "print(x_0)\n",
    "print(x_1)\n",
    "\n",
    "m = 30\n",
    "for i in range(m - 2):\n",
    "    xn = 3*x_0 + 0.5*x_1\n",
    "    x_0 = x_1\n",
    "    x_1 = xn\n",
    "    print(xn)\n"
   ]
  },
  {
   "cell_type": "markdown",
   "id": "326484ad-8a74-4e93-9f71-acfffde6c7b4",
   "metadata": {},
   "source": [
    "7. a) Write python code to determine whether or not a year is a leap year. Be sure you know what a leap year is."
   ]
  },
  {
   "cell_type": "code",
   "execution_count": 303,
   "id": "71a8d7bc-dded-411f-a71f-af968d265d66",
   "metadata": {},
   "outputs": [
    {
     "name": "stdout",
     "output_type": "stream",
     "text": [
      "Enter the year:  2024\n"
     ]
    },
    {
     "name": "stdout",
     "output_type": "stream",
     "text": [
      "This is a leap year\n"
     ]
    }
   ],
   "source": [
    "year = int(input(\"Enter the year: \"))\n",
    "\n",
    "if((year % 4 == 0 and year % 100 != 0) or (year % 400 == 0)):\n",
    "           print(\"This is a leap year\")\n",
    "else:\n",
    "           print(\"This is not a leap year\")\n",
    "           \n",
    "           "
   ]
  },
  {
   "cell_type": "markdown",
   "id": "af14b14c-e5f9-4575-9f18-0736311372b2",
   "metadata": {},
   "source": [
    "b) Write the code using only logical operators, i.e. no conditional branching."
   ]
  },
  {
   "cell_type": "code",
   "execution_count": 305,
   "id": "a50043e1-4574-4e88-8db8-7aec1ad89ad9",
   "metadata": {},
   "outputs": [
    {
     "name": "stdout",
     "output_type": "stream",
     "text": [
      "Enter the year:  2022\n"
     ]
    },
    {
     "name": "stdout",
     "output_type": "stream",
     "text": [
      "It is False that the year 2022 is a leap year.\n"
     ]
    }
   ],
   "source": [
    "year = int(input(\"Enter the year: \"))\n",
    "\n",
    "condition = (year % 4 == 0 and year % 100 != 0) or (year % 400 == 0)\n",
    "print(\"It is\",condition, \"that the year\", year,\"is a leap year.\")"
   ]
  },
  {
   "cell_type": "markdown",
   "id": "8c50a01e-84a5-409b-b976-b94aa309d675",
   "metadata": {},
   "source": [
    "8. a) Write python code that computes the sum of the square of the first n natural numbers.  One version with a \"for loop\" and another version with a \"while loop\"."
   ]
  },
  {
   "cell_type": "code",
   "execution_count": 311,
   "id": "b6e47aea-adbb-453b-906a-2d7027cd5474",
   "metadata": {},
   "outputs": [
    {
     "name": "stdout",
     "output_type": "stream",
     "text": [
      "value of n:  90\n"
     ]
    },
    {
     "name": "stdout",
     "output_type": "stream",
     "text": [
      "The sum of squeares for 90 is 238965\n"
     ]
    }
   ],
   "source": [
    "N = int(input(\"value of n: \"))\n",
    "\n",
    "square = 0\n",
    "for i in range(N):\n",
    "        square = square + i * i\n",
    "print(\"The sum of squeares for {} is {}\".format(N, square))\n",
    "\n"
   ]
  },
  {
   "cell_type": "code",
   "execution_count": 309,
   "id": "13f68469-1ade-4562-93a3-fa36682f0f5d",
   "metadata": {},
   "outputs": [
    {
     "name": "stdout",
     "output_type": "stream",
     "text": [
      "value of n:  90\n"
     ]
    },
    {
     "name": "stdout",
     "output_type": "stream",
     "text": [
      "The sum of 90 is 238965\n"
     ]
    }
   ],
   "source": [
    "N = int(input(\"value of n: \"))\n",
    "square1 = 0\n",
    "i = 0\n",
    "while i < N:\n",
    "    square1 = square1 + i * i\n",
    "    i = i + 1\n",
    "print(\"The sum of {} is {}\".format(N, square1))"
   ]
  },
  {
   "cell_type": "markdown",
   "id": "6fdde477-ac44-4669-990d-1d14112ab387",
   "metadata": {},
   "source": [
    " 8. b) Write python code that prints, for a natural number M, the smallest natural number\n",
    " n such that $1^2+2^2+···+n^2 ≥ M$. One version with a \"for loop\" and another version\n",
    " with a \"while loop\"."
   ]
  },
  {
   "cell_type": "code",
   "execution_count": 3,
   "id": "b4b4f284-53ce-4b1a-a050-3444bf204b7b",
   "metadata": {},
   "outputs": [
    {
     "name": "stdin",
     "output_type": "stream",
     "text": [
      "enter m 90\n"
     ]
    },
    {
     "name": "stdout",
     "output_type": "stream",
     "text": [
      "the smallest natural number n such that its sum of suares 91 >=90 is 6\n"
     ]
    }
   ],
   "source": [
    "# The for loop \n",
    "M = int(input(\"enter m\"))\n",
    "for_sum2 = 0\n",
    "for i in range(M):\n",
    "    for_sum2 = for_sum2 + i * i\n",
    "    if(for_sum2 >= M):\n",
    "        print(\"the smallest natural number n such that its sum of suares {} >={} is {}\".format(for_sum2, M, i))\n",
    "        break"
   ]
  },
  {
   "cell_type": "code",
   "execution_count": 15,
   "id": "bbacc097-2c5d-452e-aa67-20008979a3d5",
   "metadata": {},
   "outputs": [
    {
     "name": "stdin",
     "output_type": "stream",
     "text": [
      "Enter m 90\n"
     ]
    },
    {
     "name": "stdout",
     "output_type": "stream",
     "text": [
      "the smallest natural number n such that its sum of suares 91 >= 90 is 7\n"
     ]
    }
   ],
   "source": [
    "# The while loop\n",
    "M = int(input(\"Enter m\"))\n",
    "for_sum2 = 0\n",
    "i = 0\n",
    "while i < M:\n",
    "    for_sum2 = for_sum2 + i * i\n",
    "    i = i + 1\n",
    "    if(for_sum2 >= M):\n",
    "        print(\"the smallest natural number n such that its sum of suares {} >= {} is {}\".format(for_sum2, M, i))\n",
    "        break"
   ]
  },
  {
   "cell_type": "markdown",
   "id": "59a585b7-6048-4d97-a356-4a49627ea69b",
   "metadata": {},
   "source": [
    " 9. a) Write python code that prints all the divisors of a given natural number."
   ]
  },
  {
   "cell_type": "code",
   "execution_count": 319,
   "id": "03dd6783-5d55-4889-8977-60db01cf3daa",
   "metadata": {},
   "outputs": [
    {
     "name": "stdout",
     "output_type": "stream",
     "text": [
      "The natural number is:  56\n"
     ]
    },
    {
     "name": "stdout",
     "output_type": "stream",
     "text": [
      "The divisors of 56 are [1, 2, 4, 7, 8, 14, 28]\n"
     ]
    }
   ],
   "source": [
    "n = int(input(\"The natural number is: \"))\n",
    "divisors = []\n",
    "for i in range(1, n):\n",
    "    if(n % i ==0):\n",
    "        divisors.append(i)\n",
    "print(\"The divisors of\", n, \"are\", divisors)"
   ]
  },
  {
   "cell_type": "markdown",
   "id": "77afd6ff-07cb-40b1-917c-01dd2b1e0174",
   "metadata": {
    "scrolled": true
   },
   "source": [
    "b) Read an integer number input by the user and calculate its prime factors. This will just be some of its divisors."
   ]
  },
  {
   "cell_type": "code",
   "execution_count": 321,
   "id": "f66d0b9b-5f4b-41b3-a1f1-221c65e2c6ce",
   "metadata": {},
   "outputs": [
    {
     "name": "stdout",
     "output_type": "stream",
     "text": [
      "The natural number is:  56\n"
     ]
    },
    {
     "name": "stdout",
     "output_type": "stream",
     "text": [
      "[2, 2, 2, 7]\n"
     ]
    }
   ],
   "source": [
    "n = int(input(\"The natural number is: \"))\n",
    "prime = []\n",
    "for i in range(2, n + 1):\n",
    "    while(n % i ==0):\n",
    "        prime.append(i)\n",
    "        n = n/i\n",
    "print(prime)\n"
   ]
  },
  {
   "cell_type": "markdown",
   "id": "2ce3238e-ec72-40da-9f54-6163efba0f28",
   "metadata": {},
   "source": [
    "10. Read an integer number between n 0 and 9 and print its multiplication table up to N where N is another another natural number read by the program."
   ]
  },
  {
   "cell_type": "code",
   "execution_count": 250,
   "id": "1f124ee9-68ac-40c6-89c8-388962c8a7cb",
   "metadata": {
    "scrolled": true
   },
   "outputs": [
    {
     "name": "stdout",
     "output_type": "stream",
     "text": [
      "Enter n: 10\n",
      "Enter n: 10\n"
     ]
    },
    {
     "name": "stdout",
     "output_type": "stream",
     "text": [
      "product of 10 x 0 = 0\n",
      "product of 10 x 1 = 10\n",
      "product of 10 x 2 = 20\n",
      "product of 10 x 3 = 30\n",
      "product of 10 x 4 = 40\n",
      "product of 10 x 5 = 50\n",
      "product of 10 x 6 = 60\n",
      "product of 10 x 7 = 70\n",
      "product of 10 x 8 = 80\n",
      "product of 10 x 9 = 90\n"
     ]
    }
   ],
   "source": [
    "n = int(input(\"Enter n:\"))\n",
    "N = int(input(\"Enter n:\"))\n",
    "i = 0\n",
    "\n",
    "while i < N:\n",
    "    table = i * n\n",
    "    print(\"product of {} x {} = {}\".format(n,i,table))\n",
    "    i = i + 1"
   ]
  },
  {
   "cell_type": "markdown",
   "id": "3970a5b1-ba48-4a3e-85f9-348399959230",
   "metadata": {},
   "source": [
    " 11. Write a program that prints all the numbers between 0 and 40 that are multiples of 3, 7 or 11."
   ]
  },
  {
   "cell_type": "code",
   "execution_count": 323,
   "id": "68a42128-e445-4e16-8a8e-a46f3d22daf7",
   "metadata": {},
   "outputs": [
    {
     "name": "stdout",
     "output_type": "stream",
     "text": [
      "0\n",
      "3\n",
      "6\n",
      "7\n",
      "9\n",
      "11\n",
      "12\n",
      "14\n",
      "15\n",
      "18\n",
      "21\n",
      "22\n",
      "24\n",
      "27\n",
      "28\n",
      "30\n",
      "33\n",
      "35\n",
      "36\n",
      "39\n"
     ]
    }
   ],
   "source": [
    "for i in range(0, 40):\n",
    "    if(i % 3 ==0 or i % 7 ==0 or i % 11 ==0):\n",
    "        print(i)"
   ]
  },
  {
   "cell_type": "markdown",
   "id": "7f61e8b3-4545-4b57-a2fd-806041e30b63",
   "metadata": {},
   "source": [
    "12. Write python code that prints the floor of a float x. Recall that the floor of a float x is the largest integer value less than or equal to x, i.e. if E[x] is the floor of x, then it satisfies,\n",
    " $E[x] = 1+E[x−1]$\n",
    " PS: On Friday, you will be asked to write a recursive version of the above program."
   ]
  },
  {
   "cell_type": "code",
   "execution_count": 325,
   "id": "67882908-1ccf-496d-9757-1edfdf506d2d",
   "metadata": {},
   "outputs": [
    {
     "name": "stdout",
     "output_type": "stream",
     "text": [
      "The floor value is 0f: 2.756 is 2\n"
     ]
    }
   ],
   "source": [
    "import math\n",
    "\n",
    "x = 2.756\n",
    "floor = math.floor(x)\n",
    "print(\"The floor value is 0f:\", x, \"is\",floor)"
   ]
  },
  {
   "cell_type": "markdown",
   "id": "be7b75ad-0659-4c11-92a4-56a43ef1d6d5",
   "metadata": {},
   "source": [
    " 13. Given a point in the plane by its Cartesian coordinates, determine in which quadrant it is (1st, 2nd, 3rd, 4th), if it lies on an axis, or if it is the origin. Do this for several points in\n",
    " the same execution of the program until the user quits."
   ]
  },
  {
   "cell_type": "code",
   "execution_count": 360,
   "id": "4101189a-4a6e-4441-a55e-50c5b6a7f19b",
   "metadata": {},
   "outputs": [
    {
     "name": "stdout",
     "output_type": "stream",
     "text": [
      "Do you know the coordinates you want to enter? Enter 1: to continue, 2: end): 2\n"
     ]
    },
    {
     "name": "stdout",
     "output_type": "stream",
     "text": [
      "The program has ended\n"
     ]
    }
   ],
   "source": [
    "number = input(\"Do you know the coordinates you want to enter? Enter 1: to continue, 2: end):\")\n",
    "while True:\n",
    "    if number == '1':\n",
    "\n",
    "        x = float(input(\"Enter the coordinate x: \"))\n",
    "        y = float(input(\"Enter the coordinate y: \"))\n",
    "        \n",
    "        if(x > 0 and y > 0):\n",
    "            print(\"The coordinates (\",x,\",\",y,\") belongs to the first quadrant\")\n",
    "        elif(x < 0 and y > 0):\n",
    "            print(\"The coordinates (\",x,\",\",y,\")belongs to the second quadrant\")\n",
    "        elif(x < 0 and y < 0):\n",
    "            print(\"The coordinates (\",x,\",\",y,\")belongs to the third quadrant\")\n",
    "        elif(x > 0 and y < 0):  \n",
    "            print(\"The coordinates (\",x,\",\",y,\")belongs to the fourth quadrant\")\n",
    "        elif(x == 0 and y < 0):\n",
    "            print(\"The coordinates (\",x,\",\",y,\")belongs to the y axis\")\n",
    "        elif(x == 0 and y > 0):\n",
    "            print(\"The coordinates (\",x,\",\",y,\")belongs to the y axis\")\n",
    "        elif(x > 0 and y == 0):\n",
    "            print(\"The coordinates (\",x,\",\",y,\")belongs to the x axis\")\n",
    "        elif(x < 0 and y == 0):\n",
    "            print(\"The coordinates (\",x,\",\",y,\")belongs to the x axis\")    \n",
    "        else:\n",
    "            print(\"The coordinates (\",x,\",\",y,\")belongs to the origin\") \n",
    "        number = input(\"Do you want continue? Enter 1: to continue, 2: Quit):\")\n",
    "        \n",
    "    elif number == '2':\n",
    "        print(\"The program has ended\")\n",
    "        break  \n",
    "    \n",
    "    else:\n",
    "        print(\"Invalid input. Please enter 1 to continue or 2 to quit.\")\n",
    "        number = input(\"Do you want to continue? Enter 1 to continue, 2 to quit: \")\n"
   ]
  },
  {
   "cell_type": "markdown",
   "id": "7ed64d30-9f20-460f-8476-181cfb104fed",
   "metadata": {
    "jupyter": {
     "source_hidden": true
    }
   },
   "source": [
    " 14. Ask for an integer number between 0 and 9, denoted x. Once the user has entered a correct number (that is one in the range [0..10)) the program asks for a second integer number\n",
    " between 0 and 255, denoted max. The program continues asking for the number until it is correct (that it is in the range [0..256)). When this is done, show all multiples of x that\n",
    " are between 0 and max. Then, ask the user whether he/she wants to continue; if in the affirmative, ask for another couple of numbers, otherwise finish."
   ]
  }
 ],
 "metadata": {
  "kernelspec": {
   "display_name": "Python 3 (ipykernel)",
   "language": "python",
   "name": "python3"
  },
  "language_info": {
   "codemirror_mode": {
    "name": "ipython",
    "version": 3
   },
   "file_extension": ".py",
   "mimetype": "text/x-python",
   "name": "python",
   "nbconvert_exporter": "python",
   "pygments_lexer": "ipython3",
   "version": "3.12.3"
  }
 },
 "nbformat": 4,
 "nbformat_minor": 5
}
